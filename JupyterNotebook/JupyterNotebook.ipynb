{
  "nbformat": 4,
  "nbformat_minor": 0,
  "metadata": {
    "colab": {
      "name": "JupyterNotebook.ipynb",
      "provenance": [],
      "include_colab_link": true
    },
    "kernelspec": {
      "name": "python3",
      "display_name": "Python 3"
    }
  },
  "cells": [
    {
      "cell_type": "markdown",
      "metadata": {
        "id": "view-in-github",
        "colab_type": "text"
      },
      "source": [
        "<a href=\"https://colab.research.google.com/github/shortboy007/GIMM-400-Coding-Exercises/blob/master/JupyterNotebook.ipynb\" target=\"_parent\"><img src=\"https://colab.research.google.com/assets/colab-badge.svg\" alt=\"Open In Colab\"/></a>"
      ]
    },
    {
      "cell_type": "code",
      "metadata": {
        "id": "zHqEk8sjEFam",
        "colab_type": "code",
        "outputId": "034f28ca-fdf3-44ee-d6b6-8f8f2b8c6535",
        "colab": {
          "base_uri": "https://localhost:8080/",
          "height": 35
        }
      },
      "source": [
        "Proof = (\"This is Google Colab Working with JupyterNotebook!\")\n",
        "\n",
        "def Proving_Function(Proof):\n",
        "  \n",
        "  import string\n",
        "\n",
        "  print(Proof)\n",
        "  \n",
        "Proving_Function(Proof)"
      ],
      "execution_count": 0,
      "outputs": [
        {
          "output_type": "stream",
          "text": [
            "This is Google Colab Working with JupyterNotebook!\n"
          ],
          "name": "stdout"
        }
      ]
    },
    {
      "cell_type": "markdown",
      "metadata": {
        "id": "ljWe1hqauJ9S",
        "colab_type": "text"
      },
      "source": [
        "Hello World Activity, working with strings"
      ]
    },
    {
      "cell_type": "code",
      "metadata": {
        "id": "yL92LPOXuN1-",
        "colab_type": "code",
        "colab": {
          "base_uri": "https://localhost:8080/",
          "height": 72
        },
        "outputId": "e1b26ba1-8964-4de4-dff3-03eb0866cf95"
      },
      "source": [
        "import string\n",
        "\n",
        "input_string = (\"Hello World\")\n",
        "\n",
        "print(input_string.split())\n",
        "\n",
        "input_string = (\"Hello World\")\n",
        "\n",
        "def example_func(input_string):\n",
        "  \n",
        "  import string\n",
        "\n",
        "  a = len(input_string.split())\n",
        "  \n",
        "  print(a)\n",
        "\n",
        "  return a\n",
        "\n",
        "example_func(input_string)"
      ],
      "execution_count": 3,
      "outputs": [
        {
          "output_type": "stream",
          "text": [
            "['Hello', 'World']\n",
            "2\n"
          ],
          "name": "stdout"
        },
        {
          "output_type": "execute_result",
          "data": {
            "text/plain": [
              "2"
            ]
          },
          "metadata": {
            "tags": []
          },
          "execution_count": 3
        }
      ]
    },
    {
      "cell_type": "markdown",
      "metadata": {
        "id": "GhvS2CNht4F9",
        "colab_type": "text"
      },
      "source": [
        "Conditional statements with Python"
      ]
    },
    {
      "cell_type": "code",
      "metadata": {
        "id": "Ql-3Mw3Et9W4",
        "colab_type": "code",
        "colab": {
          "base_uri": "https://localhost:8080/",
          "height": 35
        },
        "outputId": "b2daee9c-adcb-4814-ce91-7fd2959d54ac"
      },
      "source": [
        "a = 5;\n",
        "b = 3;\n",
        "c = a + b;\n",
        "\n",
        "if c > 10:\n",
        "    print(\"C is greater than 10\");\n",
        "else:\n",
        "    print(\"C is less than 10\")"
      ],
      "execution_count": 1,
      "outputs": [
        {
          "output_type": "stream",
          "text": [
            "C is less than 10\n"
          ],
          "name": "stdout"
        }
      ]
    },
    {
      "cell_type": "markdown",
      "metadata": {
        "id": "w1cUPojovDsJ",
        "colab_type": "text"
      },
      "source": [
        "Exercise 1 Strings and Functions"
      ]
    },
    {
      "cell_type": "code",
      "metadata": {
        "id": "IOGhAYjUNba6",
        "colab_type": "code",
        "outputId": "7feedb4b-e492-4fea-f421-9a845ff6514a",
        "colab": {
          "base_uri": "https://localhost:8080/",
          "height": 35
        }
      },
      "source": [
        "import string\n",
        "\n",
        "input_string = (\"Hello World\")\n",
        "\n",
        "print (len(input_string.split()))\n",
        "\n"
      ],
      "execution_count": 0,
      "outputs": [
        {
          "output_type": "stream",
          "text": [
            "2\n"
          ],
          "name": "stdout"
        }
      ]
    },
    {
      "cell_type": "code",
      "metadata": {
        "id": "Mh_iZqWCWQnJ",
        "colab_type": "code",
        "outputId": "48c7d77e-7f6a-4f5f-839c-e8f79551cc97",
        "colab": {
          "base_uri": "https://localhost:8080/",
          "height": 54
        }
      },
      "source": [
        "input_string = (\"Hello World\")\n",
        "\n",
        "def example_func(input_string):\n",
        "  \n",
        "  import string\n",
        "\n",
        "  a = len(input_string.split())\n",
        "  \n",
        "  print(a)\n",
        "\n",
        "  return a\n",
        "\n",
        "example_func(input_string)"
      ],
      "execution_count": 0,
      "outputs": [
        {
          "output_type": "stream",
          "text": [
            "2\n"
          ],
          "name": "stdout"
        },
        {
          "output_type": "execute_result",
          "data": {
            "text/plain": [
              "2"
            ]
          },
          "metadata": {
            "tags": []
          },
          "execution_count": 55
        }
      ]
    },
    {
      "cell_type": "markdown",
      "metadata": {
        "id": "hER7PaXVupoU",
        "colab_type": "text"
      },
      "source": [
        "Exercise 2 Addition and Subtraction with Python"
      ]
    },
    {
      "cell_type": "markdown",
      "metadata": {
        "id": "emcsoVjESN4z",
        "colab_type": "text"
      },
      "source": [
        "Operator \tName \tDescription\n",
        "a + b \tAddition \tSum of a and b\n",
        "\n",
        "a - b \tSubtraction \tDifference of a and b\n",
        "\n",
        "a * b \tMultiplication \tProduct of a and b\n",
        "\n",
        "a / b \tTrue division \tQuotient of a and b\n",
        "\n",
        "a // b \tFloor division \tQuotient of a and b, removing fractional parts\n",
        "\n",
        "a % b \tModulus \tInteger remainder after division of a by b\n",
        "\n",
        "a ** b \tExponentiation \ta raised to the power of b\n",
        "\n",
        "-a \tNegation \tThe negative of a"
      ]
    },
    {
      "cell_type": "markdown",
      "metadata": {
        "id": "aXz0_WTfvuZb",
        "colab_type": "text"
      },
      "source": [
        "Exercise 3 Weighted Grades, Averages, and Lists"
      ]
    },
    {
      "cell_type": "code",
      "metadata": {
        "id": "lD_ztIDGcz19",
        "colab_type": "code",
        "outputId": "aea01d83-34fe-4cc3-ea1a-8f17658e45f3",
        "colab": {
          "base_uri": "https://localhost:8080/",
          "height": 458
        }
      },
      "source": [
        "list1 = [2,3,4]\n",
        "list2 = [0.3,0.5,0.2]\n",
        "gradeList1 = [50,90,70,40,100]\n",
        "gradeList2 = [70,80]\n",
        "gradeList3 = [10,100,50]\n",
        "\n",
        "def My_Lists():\n",
        "\n",
        "  A = list1[0] * list2[0]\n",
        "\n",
        "  B = list1[1] * list2[1]\n",
        "\n",
        "  C = list1[2] * list2[2]\n",
        "  \n",
        "  weightedList = [A,B,C]\n",
        "  \n",
        "  weightedListAverage = (weightedList[0] + weightedList[1] + weightedList[2]) / 3\n",
        "  \n",
        "  list1Average = (list1[0] + list1[1] + list1[2]) / 3\n",
        "  \n",
        "  list2Average = (list2[0] + list2[1] + list2[2]) / 3\n",
        "  \n",
        "  gradeList1Average = ((gradeList1[0]) + (gradeList1[1]) + (gradeList1[2]) + (gradeList1[3])+ (gradeList1[4]))/5\n",
        "  \n",
        "  gradeList1Weighted = gradeList1Average * list2[2]\n",
        "  \n",
        "  gradeList2Average = (gradeList2[0] + gradeList2[1])/2\n",
        "  \n",
        "  gradeList2Weighted = gradeList2Average * list2[1]\n",
        "  \n",
        "  gradeList3Average = (gradeList3[0] + gradeList3[1] + gradeList3[2])/3\n",
        "  \n",
        "  gradeList3Weighted = gradeList3Average * list2[0]\n",
        "  \n",
        "  print(A)\n",
        "  print(B)\n",
        "  print(C)\n",
        "  \n",
        "  print(list1Average) \n",
        "  print(list2Average)\n",
        "  \n",
        "  print(gradeList1Average, \"Weighted Grade Result: YOU GOT A C! YOU PASSED!\")\n",
        "  print(gradeList1Weighted)\n",
        "  print(gradeList2Average, \"Weighted Grade Result: YOU GOT A C! YOU PASSED!\")\n",
        "  print(gradeList2Weighted)\n",
        "  print(gradeList3Average, \"Weighted Grade Result: YOU GOT AN F! YOU FAILED!\")\n",
        "  print(gradeList3Weighted)\n",
        "  \n",
        "  return A, B, C\n",
        "\n",
        "print(\"Hard Code Version\")\n",
        "\n",
        "My_Lists()\n",
        "\n",
        "print(\" \")\n",
        "print(\"Array Version\")\n",
        "\n",
        "lengthL1 = len(list1)\n",
        "lengthL2 = len(list2) \n",
        "lengthGL1 = len(gradeList1)\n",
        "lengthGL2 = len(gradeList2)\n",
        "lengthGL3 = len(gradeList3)\n",
        "\n",
        "\n",
        "def My_Lists_Arrays_Loops():\n",
        "  \n",
        "  for i in range (lengthL1):\n",
        "      \n",
        "    A = list1[i] * list2[i]\n",
        "    \n",
        "    print(A)\n",
        "    \n",
        "  else:\n",
        "    print(\"I guess your first loop worked.\")\n",
        "  \n",
        "  for i in range (lengthGL1):\n",
        "    \n",
        "    B = (gradeList1[i] + i)/lengthGL1\n",
        "    \n",
        "    print(B)\n",
        "    \n",
        "  else:\n",
        "    print(\"I guess your second loop worked.\")\n",
        "\n",
        "    \n",
        "\n",
        "  \n",
        "My_Lists_Arrays_Loops()"
      ],
      "execution_count": 0,
      "outputs": [
        {
          "output_type": "stream",
          "text": [
            "Hard Code Version\n",
            "0.6\n",
            "1.5\n",
            "0.8\n",
            "3.0\n",
            "0.3333333333333333\n",
            "70.0 Weighted Grade Result: YOU GOT A C! YOU PASSED!\n",
            "14.0\n",
            "75.0 Weighted Grade Result: YOU GOT A C! YOU PASSED!\n",
            "37.5\n",
            "53.333333333333336 Weighted Grade Result: YOU GOT AN F! YOU FAILED!\n",
            "16.0\n",
            " \n",
            "Array Version\n",
            "0.6\n",
            "1.5\n",
            "0.8\n",
            "I guess your first loop worked.\n",
            "10.0\n",
            "18.2\n",
            "14.4\n",
            "8.6\n",
            "20.8\n",
            "I guess your second loop worked.\n"
          ],
          "name": "stdout"
        }
      ]
    }
  ]
}