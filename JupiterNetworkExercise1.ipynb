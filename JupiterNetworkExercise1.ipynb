{
  "nbformat": 4,
  "nbformat_minor": 0,
  "metadata": {
    "colab": {
      "name": "JupiterNetworkExercise1.ipynb",
      "version": "0.3.2",
      "provenance": [],
      "include_colab_link": true
    },
    "kernelspec": {
      "name": "python3",
      "display_name": "Python 3"
    }
  },
  "cells": [
    {
      "cell_type": "markdown",
      "metadata": {
        "id": "view-in-github",
        "colab_type": "text"
      },
      "source": [
        "<a href=\"https://colab.research.google.com/github/shortboy007/GIMM-400-Coding-Exercises/blob/master/JupiterNetworkExercise1.ipynb\" target=\"_parent\"><img src=\"https://colab.research.google.com/assets/colab-badge.svg\" alt=\"Open In Colab\"/></a>"
      ]
    },
    {
      "cell_type": "code",
      "metadata": {
        "id": "IOGhAYjUNba6",
        "colab_type": "code",
        "outputId": "6f443a76-cde5-451a-a45e-ab0074a8bda5",
        "colab": {
          "base_uri": "https://localhost:8080/",
          "height": 35
        }
      },
      "source": [
        "import string\n",
        "\n",
        "input_string = (\"Hello World\")\n",
        "\n",
        "print (len(input_string.split()))\n",
        "\n"
      ],
      "execution_count": 0,
      "outputs": [
        {
          "output_type": "stream",
          "text": [
            "2\n"
          ],
          "name": "stdout"
        }
      ]
    },
    {
      "cell_type": "code",
      "metadata": {
        "id": "qwsw5gGNTJPs",
        "colab_type": "code",
        "outputId": "1aef18b0-7ebd-4f00-f0dd-177c2c14f1d9",
        "colab": {
          "base_uri": "https://localhost:8080/",
          "height": 35
        }
      },
      "source": [
        "def example_func(input_string):\n",
        "  \n",
        "  import string\n",
        "\n",
        "input_string = (\"Hello World\")\n",
        "\n",
        "a = len(input_string.split())\n",
        "  \n",
        "print(a)\n",
        "\n",
        "return a\n",
        "\n",
        "example_func(input_string)\n"
      ],
      "execution_count": 0,
      "outputs": [
        {
          "output_type": "stream",
          "text": [
            "2\n"
          ],
          "name": "stdout"
        }
      ]
    },
    {
      "cell_type": "code",
      "metadata": {
        "id": "Mh_iZqWCWQnJ",
        "colab_type": "code",
        "outputId": "48c7d77e-7f6a-4f5f-839c-e8f79551cc97",
        "colab": {
          "base_uri": "https://localhost:8080/",
          "height": 54
        }
      },
      "source": [
        "input_string = (\"Hello World\")\n",
        "\n",
        "def example_func(input_string):\n",
        "  \n",
        "  import string\n",
        "\n",
        "  a = len(input_string.split())\n",
        "  \n",
        "  print(a)\n",
        "\n",
        "  return a\n",
        "\n",
        "example_func(input_string)"
      ],
      "execution_count": 0,
      "outputs": [
        {
          "output_type": "stream",
          "text": [
            "2\n"
          ],
          "name": "stdout"
        },
        {
          "output_type": "execute_result",
          "data": {
            "text/plain": [
              "2"
            ]
          },
          "metadata": {
            "tags": []
          },
          "execution_count": 55
        }
      ]
    }
  ]
}